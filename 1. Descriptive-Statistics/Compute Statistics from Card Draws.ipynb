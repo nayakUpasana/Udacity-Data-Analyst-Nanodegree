{
 "cells": [
  {
   "cell_type": "code",
   "execution_count": 32,
   "metadata": {},
   "outputs": [],
   "source": [
    "#All the required imports\n",
    "import pandas as pd\n",
    "import numpy as np\n",
    "%matplotlib inline\n",
    "import matplotlib.pyplot as plt\n",
    "import seaborn as sns"
   ]
  },
  {
   "cell_type": "code",
   "execution_count": 36,
   "metadata": {},
   "outputs": [
    {
     "data": {
      "text/html": [
       "<div>\n",
       "<table border=\"1\" class=\"dataframe\">\n",
       "  <thead>\n",
       "    <tr style=\"text-align: right;\">\n",
       "      <th></th>\n",
       "      <th>3 Card Draw</th>\n",
       "      <th>Total</th>\n",
       "    </tr>\n",
       "  </thead>\n",
       "  <tbody>\n",
       "    <tr>\n",
       "      <th>0</th>\n",
       "      <td>4h 10s 5h</td>\n",
       "      <td>19</td>\n",
       "    </tr>\n",
       "    <tr>\n",
       "      <th>1</th>\n",
       "      <td>Jc 4d 8h</td>\n",
       "      <td>22</td>\n",
       "    </tr>\n",
       "    <tr>\n",
       "      <th>2</th>\n",
       "      <td>9c 2h 5s</td>\n",
       "      <td>16</td>\n",
       "    </tr>\n",
       "    <tr>\n",
       "      <th>3</th>\n",
       "      <td>Kc Jd Kd</td>\n",
       "      <td>30</td>\n",
       "    </tr>\n",
       "    <tr>\n",
       "      <th>4</th>\n",
       "      <td>3c 6d 6h</td>\n",
       "      <td>15</td>\n",
       "    </tr>\n",
       "  </tbody>\n",
       "</table>\n",
       "</div>"
      ],
      "text/plain": [
       "  3 Card Draw  Total\n",
       "0   4h 10s 5h     19\n",
       "1    Jc 4d 8h     22\n",
       "2    9c 2h 5s     16\n",
       "3    Kc Jd Kd     30\n",
       "4    3c 6d 6h     15"
      ]
     },
     "execution_count": 36,
     "metadata": {},
     "output_type": "execute_result"
    }
   ],
   "source": [
    "file_1 = 'Single-Card-Draw.csv'\n",
    "file_2 = '3-Card-Draw.csv'\n",
    "\n",
    "single_draw_df = pd.read_csv(file_1)\n",
    "three_draw_df = pd.read_csv(file_2)\n",
    "\n",
    "single_draw_list = single_draw_df['Cards']\n",
    "three_draw_list = three_draw_df['Total']\n",
    "\n",
    "three_draw_df.head()"
   ]
  },
  {
   "cell_type": "code",
   "execution_count": 47,
   "metadata": {},
   "outputs": [
    {
     "data": {
      "image/png": "[encoded data removed]",
      "text/plain": [
       "<matplotlib.figure.Figure at 0xb3c7d10>"
      ]
     },
     "metadata": {},
     "output_type": "display_data"
    }
   ],
   "source": [
    "single_draw_plot = single_draw_list.plot(kind = 'hist', bins = 10, ec = 'black', figsize = (10, 8), legend = True, fontsize = 14, title = 'Plot 1. Single Draw Histogram')\n",
    "single_draw_plot.set_xlabel('Cards', fontsize = 14)\n",
    "plt.xticks((1, 2, 3, 4, 5, 6, 7, 8, 9, 10))\n",
    "single_draw_plot.set_ylabel('Frequency', fontsize = 14)\n",
    "plt.show()"
   ]
  },
  {
   "cell_type": "code",
   "execution_count": 38,
   "metadata": {},
   "outputs": [
    {
     "data": {
      "text/plain": [
       "6.538461538461538"
      ]
     },
     "execution_count": 38,
     "metadata": {},
     "output_type": "execute_result"
    }
   ],
   "source": [
    "single_card_mean = np.mean(single_draw_list)\n",
    "single_card_mean"
   ]
  },
  {
   "cell_type": "code",
   "execution_count": 39,
   "metadata": {},
   "outputs": [
    {
     "data": {
      "text/plain": [
       "7.0"
      ]
     },
     "execution_count": 39,
     "metadata": {},
     "output_type": "execute_result"
    }
   ],
   "source": [
    "single_card_median = np.median(single_draw_list)\n",
    "single_card_median"
   ]
  },
  {
   "cell_type": "code",
   "execution_count": 48,
   "metadata": {},
   "outputs": [
    {
     "data": {
      "text/plain": [
       "3.152907927987569"
      ]
     },
     "execution_count": 48,
     "metadata": {},
     "output_type": "execute_result"
    }
   ],
   "source": [
    "single_card_sd = np.std(single_draw_list)\n",
    "single_card_sd"
   ]
  },
  {
   "cell_type": "code",
   "execution_count": 46,
   "metadata": {},
   "outputs": [
    {
     "data": {
      "image/png": "[encoded data removed]",
      "text/plain": [
       "<matplotlib.figure.Figure at 0x107c94b0>"
      ]
     },
     "metadata": {},
     "output_type": "display_data"
    }
   ],
   "source": [
    "three_draw_plot = three_draw_list.plot(kind = 'hist', bins = 10, ec = 'black', figsize = (10, 8), legend = True, fontsize = 14, title = 'Plot 1. Single Draw Histogram')\n",
    "three_draw_plot.set_xlabel('Total', fontsize = 14)\n",
    "plt.xticks((8, 10, 12, 14, 16, 18, 20, 22, 24, 26, 28, 30))\n",
    "single_draw_plot.set_ylabel('Frequency', fontsize = 14)\n",
    "plt.show()"
   ]
  },
  {
   "cell_type": "code",
   "execution_count": 41,
   "metadata": {},
   "outputs": [
    {
     "data": {
      "text/plain": [
       "20.2"
      ]
     },
     "execution_count": 41,
     "metadata": {},
     "output_type": "execute_result"
    }
   ],
   "source": [
    "three_card_mean = np.mean(three_draw_list)\n",
    "three_card_mean"
   ]
  },
  {
   "cell_type": "code",
   "execution_count": 42,
   "metadata": {},
   "outputs": [
    {
     "data": {
      "text/plain": [
       "19.0"
      ]
     },
     "execution_count": 42,
     "metadata": {},
     "output_type": "execute_result"
    }
   ],
   "source": [
    "three_card_median = np.median(three_draw_list)\n",
    "three_card_median"
   ]
  },
  {
   "cell_type": "code",
   "execution_count": 43,
   "metadata": {},
   "outputs": [
    {
     "data": {
      "text/plain": [
       "22.360000000000003"
      ]
     },
     "execution_count": 43,
     "metadata": {},
     "output_type": "execute_result"
    }
   ],
   "source": [
    "three_card_variance = np.var(three_draw_list)\n",
    "three_card_variance"
   ]
  },
  {
   "cell_type": "code",
   "execution_count": 44,
   "metadata": {},
   "outputs": [
    {
     "data": {
      "text/plain": [
       "4.728636167014756"
      ]
     },
     "execution_count": 44,
     "metadata": {},
     "output_type": "execute_result"
    }
   ],
   "source": [
    "three_card_sd = np.std(three_draw_list)\n",
    "three_card_sd"
   ]
  },
  {
   "cell_type": "markdown",
   "metadata": {},
   "source": [
    "### Within what range will you expect approximately 90% of your draw values to fall?\n",
    "\n",
    "90% lies between 5th percentile (0.05) and 95th percentile (0.95) of the result. According to the Z-table:\n",
    "- 0.05 corresponds to -1.64 Z-score\n",
    "- 0.95 corresponds to 1.65 Z-score\n",
    "\n",
    "**Converting the Z-scores to the actual value:**\n",
    "\n",
    "x_1 = 20.2 + (-1.64 \\* 4.73) = 12.44\n",
    "<br>\n",
    "x_2 = 20.2 + (1.65 \\* 4.73) = 28.004\n",
    "\n",
    "The values above imply that 90% of the draws would be between 12 and 28.\n",
    "\n",
    "### Probability of drawing a value of atleast 20?\n",
    "\n",
    "We first need to calculate the Z-score for 20\n",
    "\n",
    "z = (20 - 20.2)/4.73 = -0.04\n",
    "\n",
    "As per the Z-table, the probability of picking a value up to 20 is 0.4840, and subtracting this probability from 1 would give us the probability of drawing atleast 20 or more, i.e. 1 - 0.4840 = 0.5160"
   ]
  }
 ],
 "metadata": {
  "kernelspec": {
   "display_name": "Python 2",
   "language": "python",
   "name": "python2"
  },
  "language_info": {
   "codemirror_mode": {
    "name": "ipython",
    "version": 2
   },
   "file_extension": ".py",
   "mimetype": "text/x-python",
   "name": "python",
   "nbconvert_exporter": "python",
   "pygments_lexer": "ipython2",
   "version": "2.7.15"
  }
 },
 "nbformat": 4,
 "nbformat_minor": 2
}
